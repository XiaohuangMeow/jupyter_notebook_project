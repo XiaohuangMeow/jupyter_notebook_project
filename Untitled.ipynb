{
 "cells": [
  {
   "cell_type": "markdown",
   "metadata": {},
   "source": [
    "# 导入文件"
   ]
  },
  {
   "cell_type": "code",
   "execution_count": 1,
   "metadata": {},
   "outputs": [],
   "source": [
    "from pyspark import *\n",
    "import random\n",
    "conf=SparkConf()\n",
    "conf.set(\"spark.executor.memory\", \"4g\")\n",
    "conf.set(\"spark.driver.memory\", \"8g\")\n",
    "conf.set(\"spark.cores.max\", \"4\")\n",
    "sc=SparkContext(conf=conf)\n",
    "textFile=sc.textFile(\"hdfs://localhost:9000/lab2/USCensus1990.data.txt\")"
   ]
  },
  {
   "cell_type": "code",
   "execution_count": 2,
   "metadata": {
    "scrolled": false
   },
   "outputs": [
    {
     "data": {
      "text/plain": [
       "['caseid,dAge,dAncstry1,dAncstry2,iAvail,iCitizen,iClass,dDepart,iDisabl1,iDisabl2,iEnglish,iFeb55,iFertil,dHispanic,dHour89,dHours,iImmigr,dIncome1,dIncome2,dIncome3,dIncome4,dIncome5,dIncome6,dIncome7,dIncome8,dIndustry,iKorean,iLang1,iLooking,iMarital,iMay75880,iMeans,iMilitary,iMobility,iMobillim,dOccup,iOthrserv,iPerscare,dPOB,dPoverty,dPwgt1,iRagechld,dRearning,iRelat1,iRelat2,iRemplpar,iRiders,iRlabor,iRownchld,dRpincome,iRPOB,iRrelchld,iRspouse,iRvetserv,iSchool,iSept80,iSex,iSubfam1,iSubfam2,iTmpabsnt,dTravtime,iVietnam,dWeek89,iWork89,iWorklwk,iWWII,iYearsch,iYearwrk,dYrsserv',\n",
       " '10000,5,0,1,0,0,5,3,2,2,1,0,1,0,4,3,0,2,0,0,1,0,0,0,0,10,0,1,0,1,0,1,4,2,2,3,0,2,0,2,1,4,3,0,0,0,3,1,0,3,22,0,3,0,1,0,1,0,0,0,5,0,2,1,1,0,11,1,0',\n",
       " '10001,6,1,1,0,0,7,5,2,2,0,0,3,0,1,1,0,1,0,0,0,0,1,0,0,4,0,2,0,0,0,1,4,1,2,2,0,2,0,2,2,4,2,1,0,0,1,1,0,2,10,0,1,0,1,0,1,0,0,0,1,0,2,1,1,0,5,1,0',\n",
       " '10002,3,1,2,0,0,7,4,2,2,0,0,1,0,4,4,0,1,0,1,0,0,0,0,0,1,0,2,0,4,0,10,4,1,2,4,0,2,0,2,1,4,2,2,0,0,0,1,0,2,10,0,6,0,1,0,1,0,0,0,2,0,2,1,1,0,10,1,0',\n",
       " '10003,4,1,2,0,0,1,3,2,2,0,0,3,0,3,3,0,1,0,0,0,0,0,0,1,4,0,2,0,2,0,1,4,1,2,2,0,2,0,2,1,2,2,0,0,0,1,1,0,2,10,0,4,0,1,0,1,0,0,0,1,0,1,1,1,0,10,1,0']"
      ]
     },
     "execution_count": 2,
     "metadata": {},
     "output_type": "execute_result"
    }
   ],
   "source": [
    "textFile.take(5)"
   ]
  },
  {
   "cell_type": "markdown",
   "metadata": {},
   "source": [
    "# 过滤首行"
   ]
  },
  {
   "cell_type": "code",
   "execution_count": 3,
   "metadata": {},
   "outputs": [],
   "source": [
    "data_with_index=textFile.zipWithIndex()\n",
    "data=data_with_index.filter(lambda x:x[1]!=0)\n",
    "data=data.map(lambda x:x[0])"
   ]
  },
  {
   "cell_type": "code",
   "execution_count": 4,
   "metadata": {
    "scrolled": true
   },
   "outputs": [
    {
     "data": {
      "text/plain": [
       "['10000,5,0,1,0,0,5,3,2,2,1,0,1,0,4,3,0,2,0,0,1,0,0,0,0,10,0,1,0,1,0,1,4,2,2,3,0,2,0,2,1,4,3,0,0,0,3,1,0,3,22,0,3,0,1,0,1,0,0,0,5,0,2,1,1,0,11,1,0',\n",
       " '10001,6,1,1,0,0,7,5,2,2,0,0,3,0,1,1,0,1,0,0,0,0,1,0,0,4,0,2,0,0,0,1,4,1,2,2,0,2,0,2,2,4,2,1,0,0,1,1,0,2,10,0,1,0,1,0,1,0,0,0,1,0,2,1,1,0,5,1,0',\n",
       " '10002,3,1,2,0,0,7,4,2,2,0,0,1,0,4,4,0,1,0,1,0,0,0,0,0,1,0,2,0,4,0,10,4,1,2,4,0,2,0,2,1,4,2,2,0,0,0,1,0,2,10,0,6,0,1,0,1,0,0,0,2,0,2,1,1,0,10,1,0']"
      ]
     },
     "execution_count": 4,
     "metadata": {},
     "output_type": "execute_result"
    }
   ],
   "source": [
    "data.take(3)"
   ]
  },
  {
   "cell_type": "code",
   "execution_count": 5,
   "metadata": {},
   "outputs": [],
   "source": [
    "origin_data=data\n",
    "data=data.filter(lambda x:int(x.split(\",\")[0])<20000)"
   ]
  },
  {
   "cell_type": "code",
   "execution_count": 6,
   "metadata": {
    "scrolled": false
   },
   "outputs": [
    {
     "data": {
      "text/plain": [
       "[(0,\n",
       "  '10000,5,0,1,0,0,5,3,2,2,1,0,1,0,4,3,0,2,0,0,1,0,0,0,0,10,0,1,0,1,0,1,4,2,2,3,0,2,0,2,1,4,3,0,0,0,3,1,0,3,22,0,3,0,1,0,1,0,0,0,5,0,2,1,1,0,11,1,0'),\n",
       " (0,\n",
       "  '10001,6,1,1,0,0,7,5,2,2,0,0,3,0,1,1,0,1,0,0,0,0,1,0,0,4,0,2,0,0,0,1,4,1,2,2,0,2,0,2,2,4,2,1,0,0,1,1,0,2,10,0,1,0,1,0,1,0,0,0,1,0,2,1,1,0,5,1,0'),\n",
       " (0,\n",
       "  '10002,3,1,2,0,0,7,4,2,2,0,0,1,0,4,4,0,1,0,1,0,0,0,0,0,1,0,2,0,4,0,10,4,1,2,4,0,2,0,2,1,4,2,2,0,0,0,1,0,2,10,0,6,0,1,0,1,0,0,0,2,0,2,1,1,0,10,1,0')]"
      ]
     },
     "execution_count": 6,
     "metadata": {},
     "output_type": "execute_result"
    }
   ],
   "source": [
    "data=data.map(lambda x:(0,x))\n",
    "data.take(3)"
   ]
  },
  {
   "cell_type": "code",
   "execution_count": 7,
   "metadata": {
    "scrolled": true
   },
   "outputs": [
    {
     "data": {
      "text/plain": [
       "[(0,\n",
       "  [10000,\n",
       "   5,\n",
       "   0,\n",
       "   1,\n",
       "   0,\n",
       "   0,\n",
       "   5,\n",
       "   3,\n",
       "   2,\n",
       "   2,\n",
       "   1,\n",
       "   0,\n",
       "   1,\n",
       "   0,\n",
       "   4,\n",
       "   3,\n",
       "   0,\n",
       "   2,\n",
       "   0,\n",
       "   0,\n",
       "   1,\n",
       "   0,\n",
       "   0,\n",
       "   0,\n",
       "   0,\n",
       "   10,\n",
       "   0,\n",
       "   1,\n",
       "   0,\n",
       "   1,\n",
       "   0,\n",
       "   1,\n",
       "   4,\n",
       "   2,\n",
       "   2,\n",
       "   3,\n",
       "   0,\n",
       "   2,\n",
       "   0,\n",
       "   2,\n",
       "   1,\n",
       "   4,\n",
       "   3,\n",
       "   0,\n",
       "   0,\n",
       "   0,\n",
       "   3,\n",
       "   1,\n",
       "   0,\n",
       "   3,\n",
       "   22,\n",
       "   0,\n",
       "   3,\n",
       "   0,\n",
       "   1,\n",
       "   0,\n",
       "   1,\n",
       "   0,\n",
       "   0,\n",
       "   0,\n",
       "   5,\n",
       "   0,\n",
       "   2,\n",
       "   1,\n",
       "   1,\n",
       "   0,\n",
       "   11,\n",
       "   1,\n",
       "   0])]"
      ]
     },
     "execution_count": 7,
     "metadata": {},
     "output_type": "execute_result"
    }
   ],
   "source": [
    "data=data.map(lambda x:(x[0],[int(t) for t in x[1].split(\",\")]))\n",
    "data.take(1)"
   ]
  },
  {
   "cell_type": "markdown",
   "metadata": {},
   "source": [
    "# 设置参数"
   ]
  },
  {
   "cell_type": "code",
   "execution_count": 8,
   "metadata": {
    "scrolled": false
   },
   "outputs": [],
   "source": [
    "# k=8\n",
    "# max_iter=30\n",
    "# delta=0.0001\n",
    "# iter=0\n",
    "# centers=data.takeSample(False,k)\n",
    "# print(centers)"
   ]
  },
  {
   "cell_type": "markdown",
   "metadata": {},
   "source": [
    "# 定义函数"
   ]
  },
  {
   "cell_type": "code",
   "execution_count": 9,
   "metadata": {
    "scrolled": true
   },
   "outputs": [],
   "source": [
    "# def compute_distance(x,y):\n",
    "#     l1=x[1]\n",
    "#     l2=y[1]\n",
    "#     distance=0\n",
    "#     for i in range(1,len(l1)):\n",
    "#         a=l1[i]\n",
    "#         b=l2[i]\n",
    "#         distance+=(a-b)**2\n",
    "#     distance=distance**0.5\n",
    "#     return distance\n",
    "\n",
    "# def compute_closest(x):\n",
    "#     min=99999999\n",
    "#     c=-1\n",
    "#     for i,j in enumerate(centers):\n",
    "#         distance=compute_distance(x,j)\n",
    "#         if distance<min:\n",
    "#             min=distance\n",
    "#             c=i\n",
    "#     return (c,x[1])\n",
    "\n",
    "# def computer_sum(s1,s2):\n",
    "#     l1=s1[0]\n",
    "#     l2=s2[0]\n",
    "#     l=[]\n",
    "#     for i in range(0,len(l1)):\n",
    "#         tmp=l1[i]+l2[i]\n",
    "#         if i==0:\n",
    "#             tmp=0\n",
    "#         l.append(tmp)\n",
    "#     return l,s1[1]+s2[1]\n",
    "\n",
    "# def compute_mean(x):\n",
    "#     l=x[1][0]\n",
    "#     cnt=x[1][1]\n",
    "#     l=[l[i]/cnt for i in range(0,len(l))]\n",
    "#     return x[0],l\n",
    "\n",
    "# def compute_difference(oldcenters,newcenters):\n",
    "#     diff=0\n",
    "#     for i in range(0,k):\n",
    "#         l1=oldcenters[i][1]\n",
    "#         l2=newcenters[i][1]\n",
    "#         for j in range(1,len(l1)):\n",
    "#             diff+=(l1[j]-l2[j])**2\n",
    "# #     diff=diff**0.5\n",
    "#     return diff\n",
    "\n",
    "# def str_to_list(x):\n",
    "#     s=x[1]\n",
    "#     l=s.split(\",\")\n",
    "#     l=[int(t) for t in l]\n",
    "#     l=l[1:]\n",
    "#     return l"
   ]
  },
  {
   "cell_type": "markdown",
   "metadata": {},
   "source": [
    "# k-means"
   ]
  },
  {
   "cell_type": "code",
   "execution_count": 10,
   "metadata": {
    "scrolled": false
   },
   "outputs": [],
   "source": [
    "# iter=0\n",
    "# while (iter<max_iter):\n",
    "#     print(iter)\n",
    "#     iter+=1\n",
    "#     data=data.map(compute_closest)\n",
    "#     newcenters=sorted(data.map(lambda x:(x[0],(x[1],1))).reduceByKey(computer_sum).map(compute_mean).collect())\n",
    "#     if (compute_difference(centers,newcenters)<delta):\n",
    "#         print(\"收敛\")\n",
    "#         break\n",
    "#     print(compute_difference(centers,newcenters))\n",
    "#     centers=newcenters\n",
    "# print(centers)"
   ]
  },
  {
   "cell_type": "code",
   "execution_count": 11,
   "metadata": {
    "scrolled": true
   },
   "outputs": [],
   "source": [
    "# data.take(20)"
   ]
  },
  {
   "cell_type": "markdown",
   "metadata": {},
   "source": [
    "# 存储"
   ]
  },
  {
   "cell_type": "code",
   "execution_count": 12,
   "metadata": {
    "scrolled": true
   },
   "outputs": [],
   "source": [
    "# cluster_result=data.map(lambda x:x[0])\n",
    "# print(cluster_result.count())\n",
    "# print(cluster_result.take(10))"
   ]
  },
  {
   "cell_type": "code",
   "execution_count": 13,
   "metadata": {},
   "outputs": [],
   "source": [
    "# cluster_result.saveAsTextFile(\"hdfs://localhost:9000/kmeans_cluster_result\")"
   ]
  },
  {
   "cell_type": "code",
   "execution_count": 14,
   "metadata": {
    "scrolled": false
   },
   "outputs": [],
   "source": [
    "# cluster_result_list=cluster_result.collect()\n",
    "# print(cluster_result_list[:100])"
   ]
  },
  {
   "cell_type": "code",
   "execution_count": 15,
   "metadata": {},
   "outputs": [],
   "source": [
    "# print(len(cluster_result_list))"
   ]
  },
  {
   "cell_type": "markdown",
   "metadata": {},
   "source": [
    "# 画图"
   ]
  },
  {
   "cell_type": "code",
   "execution_count": 26,
   "metadata": {},
   "outputs": [
    {
     "data": {
      "image/png": "[encoded data removed]",
      "text/plain": [
       "<Figure size 432x288 with 1 Axes>"
      ]
     },
     "metadata": {
      "needs_background": "light"
     },
     "output_type": "display_data"
    }
   ],
   "source": [
    "import matplotlib.pyplot as plt\n",
    "import numpy as np\n",
    "import pickle\n",
    "cluster_result_rdd=sc.textFile(\"hdfs://localhost:9000/kmeans_cluster_result\")\n",
    "cluster_result_list=cluster_result_rdd.collect()\n",
    "with open(\"usdata.pickle\", \"rb\") as usdata:\n",
    "    data_example = pickle.load(usdata)\n",
    "y = cluster_result_list[:10000]\n",
    "y=[int(t) for t in y]\n",
    "# print(y)\n",
    "plt.scatter(data_example[:, 0], data_example[:, 1], c=y)\n",
    "plt.show()"
   ]
  },
  {
   "cell_type": "code",
   "execution_count": 17,
   "metadata": {},
   "outputs": [],
   "source": [
    "# print(cluster_result.take(100))"
   ]
  },
  {
   "cell_type": "markdown",
   "metadata": {},
   "source": [
    "# k-medios"
   ]
  },
  {
   "cell_type": "code",
   "execution_count": 18,
   "metadata": {},
   "outputs": [],
   "source": [
    "data=data.map(lambda x:(x[0],(x[1],0.0)))"
   ]
  },
  {
   "cell_type": "code",
   "execution_count": 19,
   "metadata": {
    "scrolled": true
   },
   "outputs": [],
   "source": [
    "def compute_distance(x,y):\n",
    "    l1=x[1][0]\n",
    "    l2=y[1][0]\n",
    "    distance=0\n",
    "    for i in range(1,len(l1)):\n",
    "        a=l1[i]\n",
    "        b=l2[i]\n",
    "        distance+=(a-b)**2\n",
    "    distance=distance**0.5\n",
    "    return distance\n",
    "\n",
    "def compute_closest(x):\n",
    "    min=99999999\n",
    "    c=-1\n",
    "    for i,j in enumerate(centers):\n",
    "        distance=compute_distance(x,j)\n",
    "        if distance<min:\n",
    "            min=distance\n",
    "            c=i\n",
    "    return (c,(x[1][0],min))\n",
    "\n",
    "def compute_closest_newcenters(x):\n",
    "    min=99999999\n",
    "    c=-1\n",
    "    for i,j in enumerate(newcenters):\n",
    "        distance=compute_distance(x,j)\n",
    "        if distance<min:\n",
    "            min=distance\n",
    "            c=i\n",
    "    return (c,(x[1][0],min))\n",
    "\n",
    "\n",
    "def compute_distance_temp(x,y):\n",
    "    l1=x\n",
    "    l2=y\n",
    "    distance=0\n",
    "    for i in range(1,len(l1)):\n",
    "        a=l1[i]\n",
    "        b=l2[i]\n",
    "        distance+=(a-b)**2\n",
    "    distance=distance**0.5\n",
    "    return distance\n",
    "\n",
    "import random\n",
    "# input:list of [],[],[]\n",
    "def get_newcenters(lst):\n",
    "    min=99999999\n",
    "    sample_size=200\n",
    "    if len(lst)<sample_size:\n",
    "        sample_size=len(lst)\n",
    "    sample_list = random.sample(lst, sample_size)\n",
    "    center_num=-1\n",
    "    for i,x in enumerate(sample_list):\n",
    "        cost=0\n",
    "        for j,y in enumerate(sample_list):\n",
    "            cost+=compute_distance_temp(x,y)\n",
    "        if cost<min:\n",
    "            min=cost\n",
    "            center_num=i\n",
    "    return sample_list[center_num]"
   ]
  },
  {
   "cell_type": "code",
   "execution_count": 20,
   "metadata": {
    "scrolled": true
   },
   "outputs": [
    {
     "name": "stdout",
     "output_type": "stream",
     "text": [
      "[(0, ([10000, 5, 0, 1, 0, 0, 5, 3, 2, 2, 1, 0, 1, 0, 4, 3, 0, 2, 0, 0, 1, 0, 0, 0, 0, 10, 0, 1, 0, 1, 0, 1, 4, 2, 2, 3, 0, 2, 0, 2, 1, 4, 3, 0, 0, 0, 3, 1, 0, 3, 22, 0, 3, 0, 1, 0, 1, 0, 0, 0, 5, 0, 2, 1, 1, 0, 11, 1, 0], 0.0)), (0, ([10001, 6, 1, 1, 0, 0, 7, 5, 2, 2, 0, 0, 3, 0, 1, 1, 0, 1, 0, 0, 0, 0, 1, 0, 0, 4, 0, 2, 0, 0, 0, 1, 4, 1, 2, 2, 0, 2, 0, 2, 2, 4, 2, 1, 0, 0, 1, 1, 0, 2, 10, 0, 1, 0, 1, 0, 1, 0, 0, 0, 1, 0, 2, 1, 1, 0, 5, 1, 0], 0.0)), (0, ([10002, 3, 1, 2, 0, 0, 7, 4, 2, 2, 0, 0, 1, 0, 4, 4, 0, 1, 0, 1, 0, 0, 0, 0, 0, 1, 0, 2, 0, 4, 0, 10, 4, 1, 2, 4, 0, 2, 0, 2, 1, 4, 2, 2, 0, 0, 0, 1, 0, 2, 10, 0, 6, 0, 1, 0, 1, 0, 0, 0, 2, 0, 2, 1, 1, 0, 10, 1, 0], 0.0))]\n"
     ]
    }
   ],
   "source": [
    "k=8\n",
    "max_iter=30\n",
    "delta=0.0001\n",
    "changed=False\n",
    "print(data.take(3))\n",
    "# centers=data.takeSample(False,k)\n",
    "# print(centers)"
   ]
  },
  {
   "cell_type": "code",
   "execution_count": 21,
   "metadata": {
    "scrolled": true
   },
   "outputs": [
    {
     "name": "stdout",
     "output_type": "stream",
     "text": [
      "0\n",
      "151141.00137422886 129832.90718899401\n",
      "1\n",
      "145822.27577050694 129832.90718899401\n",
      "2\n",
      "140263.6589075146 129832.90718899401\n",
      "3\n",
      "142984.39633921493 129832.90718899401\n",
      "4\n",
      "137371.28849251018 129832.90718899401\n",
      "5\n",
      "136492.23408048588 129832.90718899401\n",
      "6\n",
      "138360.9423734173 129832.90718899401\n",
      "7\n",
      "143018.34144467715 129832.90718899401\n",
      "8\n",
      "146719.42527015944 129832.90718899401\n",
      "9\n",
      "139308.15491763834 129832.90718899401\n",
      "10\n",
      "142051.8322302032 129832.90718899401\n",
      "11\n",
      "142553.6994306471 129832.90718899401\n",
      "12\n",
      "147178.82715760783 129832.90718899401\n",
      "13\n",
      "143412.9061538116 129832.90718899401\n",
      "14\n",
      "145172.88242499088 129832.90718899401\n",
      "15\n",
      "138786.8261644269 129832.90718899401\n",
      "16\n",
      "146672.8395620131 129832.90718899401\n",
      "17\n",
      "142003.03544850665 129832.90718899401\n",
      "18\n",
      "141938.57926661873 129832.90718899401\n",
      "19\n",
      "139659.50735050807 129832.90718899401\n",
      "20\n",
      "139474.7809174368 129832.90718899401\n",
      "21\n",
      "142178.8505979428 129832.90718899401\n",
      "22\n",
      "142974.33864518252 129832.90718899401\n",
      "23\n",
      "142287.7313022587 129832.90718899401\n",
      "24\n",
      "144216.6594866477 129832.90718899401\n",
      "25\n",
      "143894.37317228984 129832.90718899401\n",
      "26\n",
      "140641.59604677834 129832.90718899401\n",
      "27\n",
      "141290.99419866866 129832.90718899401\n",
      "28\n",
      "145755.73403119665 129832.90718899401\n",
      "29\n",
      "147927.12896191794 129832.90718899401\n",
      "30\n",
      "142933.31831833703 129832.90718899401\n",
      "31\n",
      "146801.0612697275 129832.90718899401\n",
      "32\n",
      "143840.66610012794 129832.90718899401\n",
      "33\n",
      "141832.5494639861 129832.90718899401\n",
      "34\n",
      "140182.60084318815 129832.90718899401\n",
      "35\n",
      "134272.84969092204 129832.90718899401\n",
      "36\n",
      "140960.03894366333 129832.90718899401\n",
      "37\n",
      "147387.56586221282 129832.90718899401\n",
      "38\n",
      "144658.55163048327 129832.90718899401\n",
      "39\n",
      "146769.5153519056 129832.90718899401\n",
      "40\n",
      "142430.88936192764 129832.90718899401\n",
      "41\n",
      "141701.24087850004 129832.90718899401\n",
      "42\n",
      "138834.30825021022 129832.90718899401\n",
      "43\n",
      "140570.6925384867 129832.90718899401\n",
      "44\n",
      "149506.19840080893 129832.90718899401\n",
      "45\n",
      "148461.6914056711 129832.90718899401\n",
      "46\n",
      "146222.56873938115 129832.90718899401\n",
      "47\n",
      "140594.03224352247 129832.90718899401\n",
      "48\n",
      "148225.85162220267 129832.90718899401\n",
      "49\n",
      "140108.5049199364 129832.90718899401\n",
      "50\n",
      "141081.98967194022 129832.90718899401\n",
      "51\n",
      "149897.1651431214 129832.90718899401\n",
      "52\n",
      "151489.5859915372 129832.90718899401\n",
      "53\n",
      "143000.79328519705 129832.90718899401\n",
      "54\n",
      "143302.5749775737 129832.90718899401\n",
      "55\n",
      "143171.41160189218 129832.90718899401\n",
      "56\n",
      "144181.5454631694 129832.90718899401\n",
      "57\n",
      "139944.95927401737 129832.90718899401\n",
      "58\n",
      "140844.53082075462 129832.90718899401\n",
      "59\n",
      "140786.89389720632 129832.90718899401\n",
      "60\n",
      "144008.44686250278 129832.90718899401\n",
      "61\n",
      "145182.14336634407 129832.90718899401\n",
      "62\n",
      "143891.7675829108 129832.90718899401\n",
      "63\n",
      "148929.0205598163 129832.90718899401\n",
      "64\n",
      "145377.3790888749 129832.90718899401\n",
      "65\n",
      "142965.40926328834 129832.90718899401\n",
      "66\n",
      "139213.5894843643 129832.90718899401\n",
      "67\n",
      "146293.50952170356 129832.90718899401\n",
      "68\n",
      "141622.01426858926 129832.90718899401\n",
      "69\n",
      "140285.84255319193 129832.90718899401\n",
      "70\n",
      "150117.4953990903 129832.90718899401\n",
      "71\n",
      "143264.1603778051 129832.90718899401\n",
      "72\n",
      "144703.16128508034 129832.90718899401\n",
      "73\n",
      "144970.36684757835 129832.90718899401\n",
      "74\n",
      "143685.15114132848 129832.90718899401\n",
      "75\n",
      "137697.59877306028 129832.90718899401\n",
      "76\n",
      "145174.7366312259 129832.90718899401\n",
      "77\n",
      "149273.1031343805 129832.90718899401\n",
      "78\n",
      "143717.2068845314 129832.90718899401\n",
      "79\n",
      "146480.30563938932 129832.90718899401\n",
      "80\n",
      "142468.15935854963 129832.90718899401\n",
      "81\n",
      "150687.2321745456 129832.90718899401\n",
      "82\n",
      "140439.14247938612 129832.90718899401\n",
      "83\n",
      "142324.87512816954 129832.90718899401\n",
      "84\n",
      "147465.1637016918 129832.90718899401\n",
      "85\n",
      "141433.0899021431 129832.90718899401\n",
      "86\n",
      "148229.51069118187 129832.90718899401\n",
      "87\n",
      "144439.46884582494 129832.90718899401\n",
      "88\n",
      "145549.4439306258 129832.90718899401\n",
      "89\n",
      "144288.71464615906 129832.90718899401\n",
      "90\n",
      "144638.19159598363 129832.90718899401\n",
      "91\n",
      "144887.38436955 129832.90718899401\n",
      "92\n",
      "142034.67772150127 129832.90718899401\n",
      "93\n",
      "150347.14350959935 129832.90718899401\n",
      "94\n",
      "149095.6587163787 129832.90718899401\n",
      "95\n",
      "154494.89237611555 129832.90718899401\n",
      "96\n",
      "143536.50116512302 129832.90718899401\n",
      "97\n",
      "143675.6056269217 129832.90718899401\n",
      "98\n",
      "148877.15793048765 129832.90718899401\n",
      "99\n",
      "145239.13701966396 129832.90718899401\n"
     ]
    }
   ],
   "source": [
    "import copy\n",
    "iter=0\n",
    "centers=data.takeSample(False,k)\n",
    "data=data.map(compute_closest)\n",
    "# print(data.take(3))\n",
    "old_cost=data.map(lambda x:x[1][1]).reduce(lambda x,y:x+y)\n",
    "for p in range(0,30):\n",
    "    print(p)\n",
    "    newcenters_rdd=data.groupByKey().mapValues(lambda x:list(x)).mapValues(get_newcenters)\n",
    "    newcenters=sorted(newcenters_rdd.collect())\n",
    "#     print(newcenters)\n",
    "    newdata=data.map(compute_closest_newcenters)\n",
    "#     c_id=[x[1][0][0] for x in newcenters]\n",
    "#     see_correct=newdata.filter(lambda x:x[1][0][0] in c_id).take(k)\n",
    "#     print(see_correct)\n",
    "    new_cost=newdata.map(lambda x:x[1][1]).reduce(lambda x,y:x+y)\n",
    "    print(new_cost,old_cost)\n",
    "    if new_cost<old_cost:\n",
    "        print(True)\n",
    "        old_cost=new_cost\n",
    "        data=newdata\n",
    "        centers=newcenters"
   ]
  },
  {
   "cell_type": "code",
   "execution_count": 35,
   "metadata": {},
   "outputs": [
    {
     "name": "stdout",
     "output_type": "stream",
     "text": [
      "[(6, ([10000, 5, 0, 1, 0, 0, 5, 3, 2, 2, 1, 0, 1, 0, 4, 3, 0, 2, 0, 0, 1, 0, 0, 0, 0, 10, 0, 1, 0, 1, 0, 1, 4, 2, 2, 3, 0, 2, 0, 2, 1, 4, 3, 0, 0, 0, 3, 1, 0, 3, 22, 0, 3, 0, 1, 0, 1, 0, 0, 0, 5, 0, 2, 1, 1, 0, 11, 1, 0], 11.313708498984761)), (7, ([10001, 6, 1, 1, 0, 0, 7, 5, 2, 2, 0, 0, 3, 0, 1, 1, 0, 1, 0, 0, 0, 0, 1, 0, 0, 4, 0, 2, 0, 0, 0, 1, 4, 1, 2, 2, 0, 2, 0, 2, 2, 4, 2, 1, 0, 0, 1, 1, 0, 2, 10, 0, 1, 0, 1, 0, 1, 0, 0, 0, 1, 0, 2, 1, 1, 0, 5, 1, 0], 11.180339887498949)), (7, ([10002, 3, 1, 2, 0, 0, 7, 4, 2, 2, 0, 0, 1, 0, 4, 4, 0, 1, 0, 1, 0, 0, 0, 0, 0, 1, 0, 2, 0, 4, 0, 10, 4, 1, 2, 4, 0, 2, 0, 2, 1, 4, 2, 2, 0, 0, 0, 1, 0, 2, 10, 0, 6, 0, 1, 0, 1, 0, 0, 0, 2, 0, 2, 1, 1, 0, 10, 1, 0], 14.352700094407323))]\n",
      "[6, 7, 7]\n"
     ]
    }
   ],
   "source": [
    "cluster_result=data.map(lambda x:x[0])\n",
    "cluster_result.saveAsTextFile(\"hdfs://localhost:9000/kmedoids_cluster_result\")"
   ]
  },
  {
   "cell_type": "code",
   "execution_count": 49,
   "metadata": {},
   "outputs": [
    {
     "data": {
      "image/png": "[encoded data removed]",
      "text/plain": [
       "<Figure size 432x288 with 1 Axes>"
      ]
     },
     "metadata": {
      "needs_background": "light"
     },
     "output_type": "display_data"
    }
   ],
   "source": [
    "import matplotlib.pyplot as plt\n",
    "import numpy as np\n",
    "import pickle\n",
    "cluster_result_rdd=sc.textFile(\"hdfs://localhost:9000/kmedoids_cluster_result\")\n",
    "cluster_result_list=cluster_result_rdd.collect()\n",
    "with open(\"usdata.pickle\", \"rb\") as usdata:\n",
    "    data_example = pickle.load(usdata)\n",
    "y = cluster_result_list[:10000]\n",
    "y=[int(t) for t in y]\n",
    "# print(y)\n",
    "plt.scatter(data_example[:, 0], data_example[:, 1], c=y)\n",
    "plt.show()"
   ]
  },
  {
   "cell_type": "code",
   "execution_count": 23,
   "metadata": {
    "scrolled": false
   },
   "outputs": [
    {
     "data": {
      "text/plain": [
       "[1, 3, 9, 6, 5, 2, 7, 8, 4, 0]"
      ]
     },
     "execution_count": 23,
     "metadata": {},
     "output_type": "execute_result"
    }
   ],
   "source": [
    "l=[i for i in range(0,10)]\n",
    "rdd = sc.parallelize(l)\n",
    "rdd.takeSample(False,11)"
   ]
  },
  {
   "cell_type": "code",
   "execution_count": 24,
   "metadata": {},
   "outputs": [
    {
     "name": "stdout",
     "output_type": "stream",
     "text": [
      "[3, 0, 2, 9, 7, 4, 1, 6, 8]\n"
     ]
    }
   ],
   "source": [
    "import random\n",
    "y=list(range(0,10))\n",
    "slice = random.sample(y, 9)  #从list中随机获取5个元素，作为一个片断返回  \n",
    "print(slice)"
   ]
  },
  {
   "cell_type": "raw",
   "metadata": {},
   "source": []
  }
 ],
 "metadata": {
  "kernelspec": {
   "display_name": "Python 3",
   "language": "python",
   "name": "python3"
  },
  "language_info": {
   "codemirror_mode": {
    "name": "ipython",
    "version": 3
   },
   "file_extension": ".py",
   "mimetype": "text/x-python",
   "name": "python",
   "nbconvert_exporter": "python",
   "pygments_lexer": "ipython3",
   "version": "3.7.3"
  }
 },
 "nbformat": 4,
 "nbformat_minor": 2
}
