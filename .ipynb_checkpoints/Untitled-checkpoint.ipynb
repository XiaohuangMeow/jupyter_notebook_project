{
 "cells": [
  {
   "cell_type": "markdown",
   "metadata": {},
   "source": [
    "# 导入文件"
   ]
  },
  {
   "cell_type": "code",
   "execution_count": 1,
   "metadata": {},
   "outputs": [],
   "source": [
    "from pyspark import *\n",
    "import random\n",
    "conf=SparkConf()\n",
    "conf.set(\"spark.executor.memory\", \"4g\")\n",
    "conf.set(\"spark.driver.memory\", \"8g\")\n",
    "conf.set(\"spark.cores.max\", \"4\")\n",
    "sc=SparkContext(conf=conf)\n",
    "textFile=sc.textFile(\"hdfs://localhost:9000/lab2/USCensus1990.data.txt\")"
   ]
  },
  {
   "cell_type": "code",
   "execution_count": 2,
   "metadata": {
    "scrolled": true
   },
   "outputs": [
    {
     "data": {
      "text/plain": [
       "['caseid,dAge,dAncstry1,dAncstry2,iAvail,iCitizen,iClass,dDepart,iDisabl1,iDisabl2,iEnglish,iFeb55,iFertil,dHispanic,dHour89,dHours,iImmigr,dIncome1,dIncome2,dIncome3,dIncome4,dIncome5,dIncome6,dIncome7,dIncome8,dIndustry,iKorean,iLang1,iLooking,iMarital,iMay75880,iMeans,iMilitary,iMobility,iMobillim,dOccup,iOthrserv,iPerscare,dPOB,dPoverty,dPwgt1,iRagechld,dRearning,iRelat1,iRelat2,iRemplpar,iRiders,iRlabor,iRownchld,dRpincome,iRPOB,iRrelchld,iRspouse,iRvetserv,iSchool,iSept80,iSex,iSubfam1,iSubfam2,iTmpabsnt,dTravtime,iVietnam,dWeek89,iWork89,iWorklwk,iWWII,iYearsch,iYearwrk,dYrsserv',\n",
       " '10000,5,0,1,0,0,5,3,2,2,1,0,1,0,4,3,0,2,0,0,1,0,0,0,0,10,0,1,0,1,0,1,4,2,2,3,0,2,0,2,1,4,3,0,0,0,3,1,0,3,22,0,3,0,1,0,1,0,0,0,5,0,2,1,1,0,11,1,0',\n",
       " '10001,6,1,1,0,0,7,5,2,2,0,0,3,0,1,1,0,1,0,0,0,0,1,0,0,4,0,2,0,0,0,1,4,1,2,2,0,2,0,2,2,4,2,1,0,0,1,1,0,2,10,0,1,0,1,0,1,0,0,0,1,0,2,1,1,0,5,1,0',\n",
       " '10002,3,1,2,0,0,7,4,2,2,0,0,1,0,4,4,0,1,0,1,0,0,0,0,0,1,0,2,0,4,0,10,4,1,2,4,0,2,0,2,1,4,2,2,0,0,0,1,0,2,10,0,6,0,1,0,1,0,0,0,2,0,2,1,1,0,10,1,0',\n",
       " '10003,4,1,2,0,0,1,3,2,2,0,0,3,0,3,3,0,1,0,0,0,0,0,0,1,4,0,2,0,2,0,1,4,1,2,2,0,2,0,2,1,2,2,0,0,0,1,1,0,2,10,0,4,0,1,0,1,0,0,0,1,0,1,1,1,0,10,1,0']"
      ]
     },
     "execution_count": 2,
     "metadata": {},
     "output_type": "execute_result"
    }
   ],
   "source": [
    "textFile.take(5)"
   ]
  },
  {
   "cell_type": "markdown",
   "metadata": {},
   "source": [
    "# 过滤首行"
   ]
  },
  {
   "cell_type": "code",
   "execution_count": 3,
   "metadata": {},
   "outputs": [],
   "source": [
    "data_with_index=textFile.zipWithIndex()\n",
    "data=data_with_index.filter(lambda x:x[1]!=0)\n",
    "data=data.map(lambda x:x[0])"
   ]
  },
  {
   "cell_type": "code",
   "execution_count": 4,
   "metadata": {
    "scrolled": true
   },
   "outputs": [
    {
     "data": {
      "text/plain": [
       "['10000,5,0,1,0,0,5,3,2,2,1,0,1,0,4,3,0,2,0,0,1,0,0,0,0,10,0,1,0,1,0,1,4,2,2,3,0,2,0,2,1,4,3,0,0,0,3,1,0,3,22,0,3,0,1,0,1,0,0,0,5,0,2,1,1,0,11,1,0',\n",
       " '10001,6,1,1,0,0,7,5,2,2,0,0,3,0,1,1,0,1,0,0,0,0,1,0,0,4,0,2,0,0,0,1,4,1,2,2,0,2,0,2,2,4,2,1,0,0,1,1,0,2,10,0,1,0,1,0,1,0,0,0,1,0,2,1,1,0,5,1,0',\n",
       " '10002,3,1,2,0,0,7,4,2,2,0,0,1,0,4,4,0,1,0,1,0,0,0,0,0,1,0,2,0,4,0,10,4,1,2,4,0,2,0,2,1,4,2,2,0,0,0,1,0,2,10,0,6,0,1,0,1,0,0,0,2,0,2,1,1,0,10,1,0']"
      ]
     },
     "execution_count": 4,
     "metadata": {},
     "output_type": "execute_result"
    }
   ],
   "source": [
    "data.take(3)"
   ]
  },
  {
   "cell_type": "code",
   "execution_count": 5,
   "metadata": {},
   "outputs": [],
   "source": [
    "origin_data=data\n",
    "data=data.filter(lambda x:int(x.split(\",\")[0])<20000)"
   ]
  },
  {
   "cell_type": "code",
   "execution_count": 6,
   "metadata": {
    "scrolled": false
   },
   "outputs": [
    {
     "data": {
      "text/plain": [
       "[(0,\n",
       "  '10000,5,0,1,0,0,5,3,2,2,1,0,1,0,4,3,0,2,0,0,1,0,0,0,0,10,0,1,0,1,0,1,4,2,2,3,0,2,0,2,1,4,3,0,0,0,3,1,0,3,22,0,3,0,1,0,1,0,0,0,5,0,2,1,1,0,11,1,0'),\n",
       " (0,\n",
       "  '10001,6,1,1,0,0,7,5,2,2,0,0,3,0,1,1,0,1,0,0,0,0,1,0,0,4,0,2,0,0,0,1,4,1,2,2,0,2,0,2,2,4,2,1,0,0,1,1,0,2,10,0,1,0,1,0,1,0,0,0,1,0,2,1,1,0,5,1,0'),\n",
       " (0,\n",
       "  '10002,3,1,2,0,0,7,4,2,2,0,0,1,0,4,4,0,1,0,1,0,0,0,0,0,1,0,2,0,4,0,10,4,1,2,4,0,2,0,2,1,4,2,2,0,0,0,1,0,2,10,0,6,0,1,0,1,0,0,0,2,0,2,1,1,0,10,1,0')]"
      ]
     },
     "execution_count": 6,
     "metadata": {},
     "output_type": "execute_result"
    }
   ],
   "source": [
    "data=data.map(lambda x:(0,x))\n",
    "data.take(3)"
   ]
  },
  {
   "cell_type": "code",
   "execution_count": 7,
   "metadata": {
    "scrolled": true
   },
   "outputs": [
    {
     "data": {
      "text/plain": [
       "[(0,\n",
       "  [10000,\n",
       "   5,\n",
       "   0,\n",
       "   1,\n",
       "   0,\n",
       "   0,\n",
       "   5,\n",
       "   3,\n",
       "   2,\n",
       "   2,\n",
       "   1,\n",
       "   0,\n",
       "   1,\n",
       "   0,\n",
       "   4,\n",
       "   3,\n",
       "   0,\n",
       "   2,\n",
       "   0,\n",
       "   0,\n",
       "   1,\n",
       "   0,\n",
       "   0,\n",
       "   0,\n",
       "   0,\n",
       "   10,\n",
       "   0,\n",
       "   1,\n",
       "   0,\n",
       "   1,\n",
       "   0,\n",
       "   1,\n",
       "   4,\n",
       "   2,\n",
       "   2,\n",
       "   3,\n",
       "   0,\n",
       "   2,\n",
       "   0,\n",
       "   2,\n",
       "   1,\n",
       "   4,\n",
       "   3,\n",
       "   0,\n",
       "   0,\n",
       "   0,\n",
       "   3,\n",
       "   1,\n",
       "   0,\n",
       "   3,\n",
       "   22,\n",
       "   0,\n",
       "   3,\n",
       "   0,\n",
       "   1,\n",
       "   0,\n",
       "   1,\n",
       "   0,\n",
       "   0,\n",
       "   0,\n",
       "   5,\n",
       "   0,\n",
       "   2,\n",
       "   1,\n",
       "   1,\n",
       "   0,\n",
       "   11,\n",
       "   1,\n",
       "   0])]"
      ]
     },
     "execution_count": 7,
     "metadata": {},
     "output_type": "execute_result"
    }
   ],
   "source": [
    "data=data.map(lambda x:(x[0],[int(t) for t in x[1].split(\",\")]))\n",
    "data.take(1)"
   ]
  },
  {
   "cell_type": "markdown",
   "metadata": {},
   "source": [
    "# 设置参数"
   ]
  },
  {
   "cell_type": "code",
   "execution_count": 8,
   "metadata": {
    "scrolled": false
   },
   "outputs": [],
   "source": [
    "# k=8\n",
    "# max_iter=30\n",
    "# delta=0.0001\n",
    "# iter=0\n",
    "# centers=data.takeSample(False,k,random.randint(1,10000))\n",
    "# print(centers)"
   ]
  },
  {
   "cell_type": "markdown",
   "metadata": {},
   "source": [
    "# 定义函数"
   ]
  },
  {
   "cell_type": "code",
   "execution_count": 9,
   "metadata": {
    "scrolled": true
   },
   "outputs": [],
   "source": [
    "# def compute_distance(x,y):\n",
    "#     l1=x[1]\n",
    "#     l2=y[1]\n",
    "#     distance=0\n",
    "#     for i in range(1,len(l1)):\n",
    "#         a=l1[i]\n",
    "#         b=l2[i]\n",
    "#         distance+=(a-b)**2\n",
    "#     distance=distance**0.5\n",
    "#     return distance\n",
    "\n",
    "# def compute_closest(x):\n",
    "#     min=99999999\n",
    "#     c=-1\n",
    "#     for i,j in enumerate(centers):\n",
    "#         distance=compute_distance(x,j)\n",
    "#         if distance<min:\n",
    "#             min=distance\n",
    "#             c=i\n",
    "#     return (c,x[1])\n",
    "\n",
    "# def computer_sum(s1,s2):\n",
    "#     l1=s1[0]\n",
    "#     l2=s2[0]\n",
    "#     l=[]\n",
    "#     for i in range(0,len(l1)):\n",
    "#         tmp=l1[i]+l2[i]\n",
    "#         if i==0:\n",
    "#             tmp=0\n",
    "#         l.append(tmp)\n",
    "#     return l,s1[1]+s2[1]\n",
    "\n",
    "# def compute_mean(x):\n",
    "#     l=x[1][0]\n",
    "#     cnt=x[1][1]\n",
    "#     l=[l[i]/cnt for i in range(0,len(l))]\n",
    "#     return x[0],l\n",
    "\n",
    "# def compute_difference(oldcenters,newcenters):\n",
    "#     diff=0\n",
    "#     for i in range(0,k):\n",
    "#         l1=oldcenters[i][1]\n",
    "#         l2=newcenters[i][1]\n",
    "#         for j in range(1,len(l1)):\n",
    "#             diff+=(l1[j]-l2[j])**2\n",
    "# #     diff=diff**0.5\n",
    "#     return diff\n",
    "\n",
    "# def str_to_list(x):\n",
    "#     s=x[1]\n",
    "#     l=s.split(\",\")\n",
    "#     l=[int(t) for t in l]\n",
    "#     l=l[1:]\n",
    "#     return l"
   ]
  },
  {
   "cell_type": "markdown",
   "metadata": {},
   "source": [
    "# k-means"
   ]
  },
  {
   "cell_type": "code",
   "execution_count": 10,
   "metadata": {
    "scrolled": false
   },
   "outputs": [],
   "source": [
    "# iter=0\n",
    "# while (iter<max_iter):\n",
    "#     print(iter)\n",
    "#     iter+=1\n",
    "#     data=data.map(compute_closest)\n",
    "#     newcenters=sorted(data.map(lambda x:(x[0],(x[1],1))).reduceByKey(computer_sum).map(compute_mean).collect())\n",
    "#     if (compute_difference(centers,newcenters)<delta):\n",
    "#         print(\"收敛\")\n",
    "#         break\n",
    "#     print(compute_difference(centers,newcenters))\n",
    "#     centers=newcenters\n",
    "# print(centers)"
   ]
  },
  {
   "cell_type": "code",
   "execution_count": 11,
   "metadata": {
    "scrolled": true
   },
   "outputs": [],
   "source": [
    "# data.take(20)"
   ]
  },
  {
   "cell_type": "markdown",
   "metadata": {},
   "source": [
    "# 存储"
   ]
  },
  {
   "cell_type": "code",
   "execution_count": 12,
   "metadata": {
    "scrolled": true
   },
   "outputs": [],
   "source": [
    "# cluster_result=data.map(lambda x:x[0])\n",
    "# print(cluster_result.count())\n",
    "# print(cluster_result.take(10))"
   ]
  },
  {
   "cell_type": "code",
   "execution_count": 13,
   "metadata": {},
   "outputs": [],
   "source": [
    "# cluster_result.saveAsTextFile(\"hdfs://localhost:9000/kmeans_cluster_result\")"
   ]
  },
  {
   "cell_type": "code",
   "execution_count": 14,
   "metadata": {
    "scrolled": false
   },
   "outputs": [],
   "source": [
    "# cluster_result_list=cluster_result.collect()\n",
    "# print(cluster_result_list[:100])"
   ]
  },
  {
   "cell_type": "code",
   "execution_count": 15,
   "metadata": {},
   "outputs": [],
   "source": [
    "# print(len(cluster_result_list))"
   ]
  },
  {
   "cell_type": "markdown",
   "metadata": {},
   "source": [
    "# 画图"
   ]
  },
  {
   "cell_type": "code",
   "execution_count": 16,
   "metadata": {},
   "outputs": [],
   "source": [
    "# import matplotlib.pyplot as plt\n",
    "# import numpy as np\n",
    "# import pickle\n",
    "# cluster_result_rdd=sc.textFile(\"hdfs://localhost:9000/kmeans_cluster_result\")\n",
    "# cluster_result_list=cluster_result_rdd.collect()\n",
    "# with open(\"usdata.pickle\", \"rb\") as usdata:\n",
    "#     data_example = pickle.load(usdata)\n",
    "# y = cluster_result_list[:10000]\n",
    "# y=[int(t) for t in y]\n",
    "# # print(y)\n",
    "# plt.scatter(data_example[:, 0], data_example[:, 1], c=y)\n",
    "# plt.show()"
   ]
  },
  {
   "cell_type": "code",
   "execution_count": 17,
   "metadata": {},
   "outputs": [],
   "source": [
    "# print(cluster_result.take(100))"
   ]
  },
  {
   "cell_type": "markdown",
   "metadata": {},
   "source": [
    "# k-medios"
   ]
  },
  {
   "cell_type": "code",
   "execution_count": 18,
   "metadata": {},
   "outputs": [],
   "source": [
    "data=data.map(lambda x:(x[0],(x[1],0)))"
   ]
  },
  {
   "cell_type": "code",
   "execution_count": 19,
   "metadata": {
    "scrolled": true
   },
   "outputs": [],
   "source": [
    "def compute_distance(x,y):\n",
    "    l1=x[1][0]\n",
    "    l2=y[1][0]\n",
    "    distance=0\n",
    "    for i in range(1,len(l1)):\n",
    "        a=l1[i]\n",
    "        b=l2[i]\n",
    "        distance+=(a-b)**2\n",
    "    distance=distance**0.5\n",
    "    return distance\n",
    "\n",
    "def compute_closest(x):\n",
    "    min=99999999\n",
    "    c=-1\n",
    "    for i,j in enumerate(centers):\n",
    "        print(x)\n",
    "        print(j)\n",
    "        distance=compute_distance(x,j)\n",
    "        if distance<min:\n",
    "            min=distance\n",
    "            c=i\n",
    "    return (c,(x[1][0],min))\n",
    "\n",
    "def compute_closest_temp(x):\n",
    "    min=99999999\n",
    "    c=-1\n",
    "    for i,j in enumerate(temp_centers):\n",
    "        distance=compute_distance(x,j)\n",
    "        if distance<min:\n",
    "            min=distance\n",
    "            c=i\n",
    "    return (c,(x[1][0],min))\n",
    "\n",
    "def compute_closest_all(x):\n",
    "    min=99999999\n",
    "    c=-1\n",
    "    for i,j in enumerate(sample_centers):\n",
    "        distance=compute_distance(x,j)\n",
    "        if distance<min:\n",
    "            min=distance\n",
    "            c=i\n",
    "    return c,(x[1][0],min)\n",
    "\n",
    "# centers=[(0, ([10042, 4, 11, 1, 0, 0, 3, 0, 2, 2, 0, 0, 1, 0, 5, 0, 0, 1, 0, 0, 0, 0, 0, 0, 0, 9, 0, 2, 2, 0, 0, 0, 4, 2, 2, 2, 0, 2, 0, 2, 1, 4, 2, 0, 0, 0, 0, 3, 0, 2, 21, 0, 1, 0, 1, 0, 1, 0, 0, 1, 0, 0, 1, 1, 2, 0, 11, 2, 0], 0)), (0, ([16861, 6, 2, 1, 0, 0, 1, 2, 2, 2, 0, 0, 0, 0, 4, 4, 0, 3, 0, 0, 0, 0, 0, 0, 0, 4, 0, 2, 0, 0, 0, 1, 4, 1, 2, 1, 0, 2, 0, 2, 1, 0, 4, 0, 0, 0, 1, 1, 0, 4, 10, 0, 1, 0, 1, 0, 0, 0, 0, 0, 2, 0, 2, 1, 1, 0, 11, 1, 0], 0)), (0, ([17300, 4, 1, 1, 0, 3, 5, 2, 2, 2, 0, 0, 0, 0, 5, 5, 7, 1, 0, 0, 0, 0, 0, 0, 0, 11, 0, 2, 0, 2, 0, 9, 1, 2, 2, 5, 0, 2, 2, 0, 2, 0, 2, 13, 0, 0, 0, 4, 0, 2, 51, 0, 4, 1, 1, 1, 0, 0, 0, 0, 1, 0, 1, 1, 1, 0, 11, 1, 2], 0)), (0, ([13439, 1, 1, 2, 0, 0, 0, 0, 0, 0, 0, 0, 0, 0, 0, 0, 0, 0, 0, 0, 0, 0, 0, 0, 0, 0, 0, 0, 0, 4, 0, 0, 0, 0, 0, 0, 0, 0, 0, 1, 3, 4, 0, 2, 0, 111, 0, 0, 1, 0, 10, 1, 0, 0, 0, 0, 1, 0, 0, 0, 0, 0, 0, 0, 0, 0, 0, 0, 0], 0)), (0, ([12939, 4, 1, 1, 0, 0, 1, 1, 2, 2, 0, 0, 1, 0, 3, 3, 0, 2, 0, 0, 0, 0, 0, 0, 0, 4, 0, 2, 0, 0, 0, 1, 4, 1, 2, 5, 0, 2, 0, 2, 1, 4, 3, 1, 0, 0, 2, 1, 0, 3, 10, 0, 1, 0, 1, 0, 1, 0, 0, 0, 4, 0, 2, 1, 1, 0, 10, 1, 0], 0)), (0, ([19080, 2, 1, 1, 0, 0, 0, 0, 2, 2, 0, 0, 0, 0, 0, 0, 0, 0, 0, 0, 0, 0, 0, 0, 0, 0, 0, 2, 2, 4, 0, 0, 4, 1, 2, 0, 0, 2, 0, 2, 1, 0, 0, 2, 0, 111, 0, 6, 1, 0, 10, 1, 6, 0, 2, 0, 0, 0, 0, 3, 0, 0, 0, 2, 2, 0, 8, 7, 0], 0)), (0, ([12420, 1, 11, 1, 0, 0, 0, 0, 0, 0, 0, 0, 0, 0, 0, 0, 0, 0, 0, 0, 0, 0, 0, 0, 0, 0, 0, 2, 0, 4, 0, 0, 0, 1, 0, 0, 0, 0, 0, 1, 1, 0, 0, 2, 0, 121, 0, 0, 1, 0, 10, 1, 0, 0, 3, 0, 0, 0, 0, 0, 0, 0, 0, 0, 0, 0, 4, 0, 0], 0)), (0, ([13528, 7, 1, 1, 0, 0, 1, 0, 2, 2, 0, 0, 0, 0, 3, 0, 0, 2, 0, 0, 1, 1, 0, 0, 0, 4, 0, 2, 2, 0, 0, 0, 2, 1, 2, 5, 0, 2, 0, 2, 2, 0, 3, 0, 0, 0, 0, 6, 0, 3, 23, 0, 1, 10, 1, 0, 0, 0, 0, 3, 0, 0, 1, 1, 2, 1, 10, 2, 1], 0))]\n",
    "# ccc=[(0, ([10000, 5, 0, 1, 0, 0, 5, 3, 2, 2, 1, 0, 1, 0, 4, 3, 0, 2, 0, 0, 1, 0, 0, 0, 0, 10, 0, 1, 0, 1, 0, 1, 4, 2, 2, 3, 0, 2, 0, 2, 1, 4, 3, 0, 0, 0, 3, 1, 0, 3, 22, 0, 3, 0, 1, 0, 1, 0, 0, 0, 5, 0, 2, 1, 1, 0, 11, 1, 0], 0))]\n",
    "# compute_closest(ccc[0])\n"
   ]
  },
  {
   "cell_type": "code",
   "execution_count": 20,
   "metadata": {},
   "outputs": [],
   "source": [
    "def get_centers(sample_data,centers,temp_centers):\n",
    "    changed=True\n",
    "    cnt=0\n",
    "#     centers=sample_data.takeSample(False,k,random.randint(1,10000))\n",
    "    while changed:\n",
    "        cnt+=1\n",
    "        print(cnt)\n",
    "        sample_data=sample_data.map(compute_closest)\n",
    "        print(sample_data.count())\n",
    "        sample_data_list=sample_data.collect()\n",
    "        oldcost=sample_data.map(lambda x:x[1][1]).reduce(lambda x,y:x+y)\n",
    "        replace_data=-1\n",
    "        replace_center=-1\n",
    "        min=999999999\n",
    "        for i,x in enumerate(sample_data_list):\n",
    "            for j,y in enumerate(centers):\n",
    "                print(i,j)\n",
    "                if x in centers:\n",
    "                    continue\n",
    "                temp_centers=centers.copy()\n",
    "                temp_centers[j]=x\n",
    "                test_data=sample_data.map(compute_closest_temp)\n",
    "                newcost=test_data.map(lambda x:x[1][1]).reduce(lambda x,y:x+y)\n",
    "                cost_change=newcost-oldcost\n",
    "                if cost_change<min:\n",
    "                    min=cost_change\n",
    "                    replace_data=i\n",
    "                    replace_center=j\n",
    "        if min<0:\n",
    "            changed=True\n",
    "            centers[j]=sample_data_list[i]\n",
    "    return centers"
   ]
  },
  {
   "cell_type": "code",
   "execution_count": 21,
   "metadata": {},
   "outputs": [],
   "source": [
    "# import numpy as np\n",
    "# def compute_distance(x,y):\n",
    "#     l1=x[1][0]\n",
    "#     l2=y[1][0]\n",
    "#     distance=0\n",
    "#     for i in range(1,len(l1)):\n",
    "#         a=l1[i]\n",
    "#         b=l2[i]\n",
    "#         distance+=(a-b)**2\n",
    "#     distance=distance**0.5\n",
    "#     return distance\n",
    "\n",
    "# def compute_closest(lst):\n",
    "#     min=99999999\n",
    "#     c=-1\n",
    "#     new_lst=[]\n",
    "#     for x in lst:\n",
    "#         for i,j in enumerate(centers):\n",
    "#             distance=compute_distance(x,j)\n",
    "#             if distance<min:\n",
    "#                 min=distance\n",
    "#                 c=i\n",
    "        \n",
    "\n",
    "# def get_centers(sample_data,centers,temp_centers):\n",
    "#     changed=True\n",
    "#     cnt=0\n",
    "#     sample_data_list=sample_data.collect()\n",
    "#     while changed:\n",
    "#         cnt+=1\n",
    "#         print(cnt)\n",
    "# #         sample_data=sample_data.map(compute_closest)\n",
    "#         sample_data_list=change_cluster(sample_data_list)\n",
    "#         oldcost=sample_data.map(lambda x:x[1][1]).reduce(lambda x,y:x+y)\n",
    "#         replace_data=-1\n",
    "#         replace_center=-1\n",
    "#         min=999999999\n",
    "#         for i,x in enumerate(sample_data_list):\n",
    "#             for j,y in enumerate(centers):\n",
    "#                 print(i,j)\n",
    "#                 if x in centers:\n",
    "#                     continue\n",
    "#                 temp_centers=centers.copy()\n",
    "#                 temp_centers[j]=x\n",
    "#                 test_data=sample_data.map(compute_closest_temp)\n",
    "#                 newcost=test_data.map(lambda x:x[1][1]).reduce(lambda x,y:x+y)\n",
    "#                 cost_change=newcost-oldcost\n",
    "#                 if cost_change<min:\n",
    "#                     min=cost_change\n",
    "#                     replace_data=i\n",
    "#                     replace_center=j\n",
    "#         if min<0:\n",
    "#             changed=True\n",
    "#             centers[j]=sample_data_list[i]\n",
    "#     return centers"
   ]
  },
  {
   "cell_type": "code",
   "execution_count": 22,
   "metadata": {
    "scrolled": false
   },
   "outputs": [
    {
     "name": "stdout",
     "output_type": "stream",
     "text": [
      "[(0, ([10000, 5, 0, 1, 0, 0, 5, 3, 2, 2, 1, 0, 1, 0, 4, 3, 0, 2, 0, 0, 1, 0, 0, 0, 0, 10, 0, 1, 0, 1, 0, 1, 4, 2, 2, 3, 0, 2, 0, 2, 1, 4, 3, 0, 0, 0, 3, 1, 0, 3, 22, 0, 3, 0, 1, 0, 1, 0, 0, 0, 5, 0, 2, 1, 1, 0, 11, 1, 0], 0)), (0, ([10001, 6, 1, 1, 0, 0, 7, 5, 2, 2, 0, 0, 3, 0, 1, 1, 0, 1, 0, 0, 0, 0, 1, 0, 0, 4, 0, 2, 0, 0, 0, 1, 4, 1, 2, 2, 0, 2, 0, 2, 2, 4, 2, 1, 0, 0, 1, 1, 0, 2, 10, 0, 1, 0, 1, 0, 1, 0, 0, 0, 1, 0, 2, 1, 1, 0, 5, 1, 0], 0)), (0, ([10002, 3, 1, 2, 0, 0, 7, 4, 2, 2, 0, 0, 1, 0, 4, 4, 0, 1, 0, 1, 0, 0, 0, 0, 0, 1, 0, 2, 0, 4, 0, 10, 4, 1, 2, 4, 0, 2, 0, 2, 1, 4, 2, 2, 0, 0, 0, 1, 0, 2, 10, 0, 6, 0, 1, 0, 1, 0, 0, 0, 2, 0, 2, 1, 1, 0, 10, 1, 0], 0))]\n",
      "[(0, ([10000, 5, 0, 1, 0, 0, 5, 3, 2, 2, 1, 0, 1, 0, 4, 3, 0, 2, 0, 0, 1, 0, 0, 0, 0, 10, 0, 1, 0, 1, 0, 1, 4, 2, 2, 3, 0, 2, 0, 2, 1, 4, 3, 0, 0, 0, 3, 1, 0, 3, 22, 0, 3, 0, 1, 0, 1, 0, 0, 0, 5, 0, 2, 1, 1, 0, 11, 1, 0], 0)), (0, ([10001, 6, 1, 1, 0, 0, 7, 5, 2, 2, 0, 0, 3, 0, 1, 1, 0, 1, 0, 0, 0, 0, 1, 0, 0, 4, 0, 2, 0, 0, 0, 1, 4, 1, 2, 2, 0, 2, 0, 2, 2, 4, 2, 1, 0, 0, 1, 1, 0, 2, 10, 0, 1, 0, 1, 0, 1, 0, 0, 0, 1, 0, 2, 1, 1, 0, 5, 1, 0], 0)), (0, ([10002, 3, 1, 2, 0, 0, 7, 4, 2, 2, 0, 0, 1, 0, 4, 4, 0, 1, 0, 1, 0, 0, 0, 0, 0, 1, 0, 2, 0, 4, 0, 10, 4, 1, 2, 4, 0, 2, 0, 2, 1, 4, 2, 2, 0, 0, 0, 1, 0, 2, 10, 0, 6, 0, 1, 0, 1, 0, 0, 0, 2, 0, 2, 1, 1, 0, 10, 1, 0], 0))]\n"
     ]
    }
   ],
   "source": [
    "k=8\n",
    "max_iter=30\n",
    "delta=0.0001\n",
    "changed=False\n",
    "print(data.take(3))\n",
    "print(data.take(3))\n",
    "# centers=data.takeSample(False,k,random.randint(1,10000))\n",
    "# print(centers)"
   ]
  },
  {
   "cell_type": "code",
   "execution_count": 23,
   "metadata": {
    "scrolled": true
   },
   "outputs": [
    {
     "name": "stdout",
     "output_type": "stream",
     "text": [
      "0 1\n",
      "10000\n"
     ]
    },
    {
     "ename": "KeyboardInterrupt",
     "evalue": "",
     "output_type": "error",
     "traceback": [
      "\u001b[0;31m---------------------------------------------------------------------------\u001b[0m",
      "\u001b[0;31mKeyboardInterrupt\u001b[0m                         Traceback (most recent call last)",
      "\u001b[0;32m<ipython-input-23-87e5bb47a19f>\u001b[0m in \u001b[0;36m<module>\u001b[0;34m\u001b[0m\n\u001b[1;32m      6\u001b[0m     \u001b[0msample_data\u001b[0m\u001b[0;34m=\u001b[0m\u001b[0mdata\u001b[0m\u001b[0;34m.\u001b[0m\u001b[0msample\u001b[0m\u001b[0;34m(\u001b[0m\u001b[0;32mFalse\u001b[0m\u001b[0;34m,\u001b[0m\u001b[0;36m40\u001b[0m\u001b[0;34m+\u001b[0m\u001b[0;36m2\u001b[0m\u001b[0;34m*\u001b[0m\u001b[0mk\u001b[0m\u001b[0;34m,\u001b[0m\u001b[0mrandom\u001b[0m\u001b[0;34m.\u001b[0m\u001b[0mrandint\u001b[0m\u001b[0;34m(\u001b[0m\u001b[0;36m1\u001b[0m\u001b[0;34m,\u001b[0m\u001b[0;36m10000\u001b[0m\u001b[0;34m)\u001b[0m\u001b[0;34m)\u001b[0m\u001b[0;34m\u001b[0m\u001b[0;34m\u001b[0m\u001b[0m\n\u001b[1;32m      7\u001b[0m     \u001b[0mprint\u001b[0m\u001b[0;34m(\u001b[0m\u001b[0msample_data\u001b[0m\u001b[0;34m.\u001b[0m\u001b[0mcount\u001b[0m\u001b[0;34m(\u001b[0m\u001b[0;34m)\u001b[0m\u001b[0;34m)\u001b[0m\u001b[0;34m\u001b[0m\u001b[0;34m\u001b[0m\u001b[0m\n\u001b[0;32m----> 8\u001b[0;31m     \u001b[0mcenters\u001b[0m\u001b[0;34m=\u001b[0m\u001b[0msample_data\u001b[0m\u001b[0;34m.\u001b[0m\u001b[0mtakeSample\u001b[0m\u001b[0;34m(\u001b[0m\u001b[0;32mFalse\u001b[0m\u001b[0;34m,\u001b[0m\u001b[0mk\u001b[0m\u001b[0;34m,\u001b[0m\u001b[0mrandom\u001b[0m\u001b[0;34m.\u001b[0m\u001b[0mrandint\u001b[0m\u001b[0;34m(\u001b[0m\u001b[0;36m1\u001b[0m\u001b[0;34m,\u001b[0m\u001b[0;36m10000\u001b[0m\u001b[0;34m)\u001b[0m\u001b[0;34m)\u001b[0m\u001b[0;34m\u001b[0m\u001b[0;34m\u001b[0m\u001b[0m\n\u001b[0m\u001b[1;32m      9\u001b[0m     \u001b[0mtemp_centers\u001b[0m\u001b[0;34m=\u001b[0m\u001b[0mcenters\u001b[0m\u001b[0;34m.\u001b[0m\u001b[0mcopy\u001b[0m\u001b[0;34m(\u001b[0m\u001b[0;34m)\u001b[0m\u001b[0;34m\u001b[0m\u001b[0;34m\u001b[0m\u001b[0m\n\u001b[1;32m     10\u001b[0m     \u001b[0mprint\u001b[0m\u001b[0;34m(\u001b[0m\u001b[0mp\u001b[0m\u001b[0;34m,\u001b[0m\u001b[0;36m2\u001b[0m\u001b[0;34m)\u001b[0m\u001b[0;34m\u001b[0m\u001b[0;34m\u001b[0m\u001b[0m\n",
      "\u001b[0;32m/usr/local/spark/python/pyspark/rdd.py\u001b[0m in \u001b[0;36mtakeSample\u001b[0;34m(self, withReplacement, num, seed)\u001b[0m\n\u001b[1;32m    502\u001b[0m         fraction = RDD._computeFractionForSampleSize(\n\u001b[1;32m    503\u001b[0m             num, initialCount, withReplacement)\n\u001b[0;32m--> 504\u001b[0;31m         \u001b[0msamples\u001b[0m \u001b[0;34m=\u001b[0m \u001b[0mself\u001b[0m\u001b[0;34m.\u001b[0m\u001b[0msample\u001b[0m\u001b[0;34m(\u001b[0m\u001b[0mwithReplacement\u001b[0m\u001b[0;34m,\u001b[0m \u001b[0mfraction\u001b[0m\u001b[0;34m,\u001b[0m \u001b[0mseed\u001b[0m\u001b[0;34m)\u001b[0m\u001b[0;34m.\u001b[0m\u001b[0mcollect\u001b[0m\u001b[0;34m(\u001b[0m\u001b[0;34m)\u001b[0m\u001b[0;34m\u001b[0m\u001b[0;34m\u001b[0m\u001b[0m\n\u001b[0m\u001b[1;32m    505\u001b[0m \u001b[0;34m\u001b[0m\u001b[0m\n\u001b[1;32m    506\u001b[0m         \u001b[0;31m# If the first sample didn't turn out large enough, keep trying to take samples;\u001b[0m\u001b[0;34m\u001b[0m\u001b[0;34m\u001b[0m\u001b[0;34m\u001b[0m\u001b[0m\n",
      "\u001b[0;32m/usr/local/spark/python/pyspark/rdd.py\u001b[0m in \u001b[0;36mcollect\u001b[0;34m(self)\u001b[0m\n\u001b[1;32m    814\u001b[0m         \"\"\"\n\u001b[1;32m    815\u001b[0m         \u001b[0;32mwith\u001b[0m \u001b[0mSCCallSiteSync\u001b[0m\u001b[0;34m(\u001b[0m\u001b[0mself\u001b[0m\u001b[0;34m.\u001b[0m\u001b[0mcontext\u001b[0m\u001b[0;34m)\u001b[0m \u001b[0;32mas\u001b[0m \u001b[0mcss\u001b[0m\u001b[0;34m:\u001b[0m\u001b[0;34m\u001b[0m\u001b[0;34m\u001b[0m\u001b[0m\n\u001b[0;32m--> 816\u001b[0;31m             \u001b[0msock_info\u001b[0m \u001b[0;34m=\u001b[0m \u001b[0mself\u001b[0m\u001b[0;34m.\u001b[0m\u001b[0mctx\u001b[0m\u001b[0;34m.\u001b[0m\u001b[0m_jvm\u001b[0m\u001b[0;34m.\u001b[0m\u001b[0mPythonRDD\u001b[0m\u001b[0;34m.\u001b[0m\u001b[0mcollectAndServe\u001b[0m\u001b[0;34m(\u001b[0m\u001b[0mself\u001b[0m\u001b[0;34m.\u001b[0m\u001b[0m_jrdd\u001b[0m\u001b[0;34m.\u001b[0m\u001b[0mrdd\u001b[0m\u001b[0;34m(\u001b[0m\u001b[0;34m)\u001b[0m\u001b[0;34m)\u001b[0m\u001b[0;34m\u001b[0m\u001b[0;34m\u001b[0m\u001b[0m\n\u001b[0m\u001b[1;32m    817\u001b[0m         \u001b[0;32mreturn\u001b[0m \u001b[0mlist\u001b[0m\u001b[0;34m(\u001b[0m\u001b[0m_load_from_socket\u001b[0m\u001b[0;34m(\u001b[0m\u001b[0msock_info\u001b[0m\u001b[0;34m,\u001b[0m \u001b[0mself\u001b[0m\u001b[0;34m.\u001b[0m\u001b[0m_jrdd_deserializer\u001b[0m\u001b[0;34m)\u001b[0m\u001b[0;34m)\u001b[0m\u001b[0;34m\u001b[0m\u001b[0;34m\u001b[0m\u001b[0m\n\u001b[1;32m    818\u001b[0m \u001b[0;34m\u001b[0m\u001b[0m\n",
      "\u001b[0;32m/usr/local/spark/python/lib/py4j-0.10.7-src.zip/py4j/java_gateway.py\u001b[0m in \u001b[0;36m__call__\u001b[0;34m(self, *args)\u001b[0m\n\u001b[1;32m   1253\u001b[0m             \u001b[0mproto\u001b[0m\u001b[0;34m.\u001b[0m\u001b[0mEND_COMMAND_PART\u001b[0m\u001b[0;34m\u001b[0m\u001b[0;34m\u001b[0m\u001b[0m\n\u001b[1;32m   1254\u001b[0m \u001b[0;34m\u001b[0m\u001b[0m\n\u001b[0;32m-> 1255\u001b[0;31m         \u001b[0manswer\u001b[0m \u001b[0;34m=\u001b[0m \u001b[0mself\u001b[0m\u001b[0;34m.\u001b[0m\u001b[0mgateway_client\u001b[0m\u001b[0;34m.\u001b[0m\u001b[0msend_command\u001b[0m\u001b[0;34m(\u001b[0m\u001b[0mcommand\u001b[0m\u001b[0;34m)\u001b[0m\u001b[0;34m\u001b[0m\u001b[0;34m\u001b[0m\u001b[0m\n\u001b[0m\u001b[1;32m   1256\u001b[0m         return_value = get_return_value(\n\u001b[1;32m   1257\u001b[0m             answer, self.gateway_client, self.target_id, self.name)\n",
      "\u001b[0;32m/usr/local/spark/python/lib/py4j-0.10.7-src.zip/py4j/java_gateway.py\u001b[0m in \u001b[0;36msend_command\u001b[0;34m(self, command, retry, binary)\u001b[0m\n\u001b[1;32m    983\u001b[0m         \u001b[0mconnection\u001b[0m \u001b[0;34m=\u001b[0m \u001b[0mself\u001b[0m\u001b[0;34m.\u001b[0m\u001b[0m_get_connection\u001b[0m\u001b[0;34m(\u001b[0m\u001b[0;34m)\u001b[0m\u001b[0;34m\u001b[0m\u001b[0;34m\u001b[0m\u001b[0m\n\u001b[1;32m    984\u001b[0m         \u001b[0;32mtry\u001b[0m\u001b[0;34m:\u001b[0m\u001b[0;34m\u001b[0m\u001b[0;34m\u001b[0m\u001b[0m\n\u001b[0;32m--> 985\u001b[0;31m             \u001b[0mresponse\u001b[0m \u001b[0;34m=\u001b[0m \u001b[0mconnection\u001b[0m\u001b[0;34m.\u001b[0m\u001b[0msend_command\u001b[0m\u001b[0;34m(\u001b[0m\u001b[0mcommand\u001b[0m\u001b[0;34m)\u001b[0m\u001b[0;34m\u001b[0m\u001b[0;34m\u001b[0m\u001b[0m\n\u001b[0m\u001b[1;32m    986\u001b[0m             \u001b[0;32mif\u001b[0m \u001b[0mbinary\u001b[0m\u001b[0;34m:\u001b[0m\u001b[0;34m\u001b[0m\u001b[0;34m\u001b[0m\u001b[0m\n\u001b[1;32m    987\u001b[0m                 \u001b[0;32mreturn\u001b[0m \u001b[0mresponse\u001b[0m\u001b[0;34m,\u001b[0m \u001b[0mself\u001b[0m\u001b[0;34m.\u001b[0m\u001b[0m_create_connection_guard\u001b[0m\u001b[0;34m(\u001b[0m\u001b[0mconnection\u001b[0m\u001b[0;34m)\u001b[0m\u001b[0;34m\u001b[0m\u001b[0;34m\u001b[0m\u001b[0m\n",
      "\u001b[0;32m/usr/local/spark/python/lib/py4j-0.10.7-src.zip/py4j/java_gateway.py\u001b[0m in \u001b[0;36msend_command\u001b[0;34m(self, command)\u001b[0m\n\u001b[1;32m   1150\u001b[0m \u001b[0;34m\u001b[0m\u001b[0m\n\u001b[1;32m   1151\u001b[0m         \u001b[0;32mtry\u001b[0m\u001b[0;34m:\u001b[0m\u001b[0;34m\u001b[0m\u001b[0;34m\u001b[0m\u001b[0m\n\u001b[0;32m-> 1152\u001b[0;31m             \u001b[0manswer\u001b[0m \u001b[0;34m=\u001b[0m \u001b[0msmart_decode\u001b[0m\u001b[0;34m(\u001b[0m\u001b[0mself\u001b[0m\u001b[0;34m.\u001b[0m\u001b[0mstream\u001b[0m\u001b[0;34m.\u001b[0m\u001b[0mreadline\u001b[0m\u001b[0;34m(\u001b[0m\u001b[0;34m)\u001b[0m\u001b[0;34m[\u001b[0m\u001b[0;34m:\u001b[0m\u001b[0;34m-\u001b[0m\u001b[0;36m1\u001b[0m\u001b[0;34m]\u001b[0m\u001b[0;34m)\u001b[0m\u001b[0;34m\u001b[0m\u001b[0;34m\u001b[0m\u001b[0m\n\u001b[0m\u001b[1;32m   1153\u001b[0m             \u001b[0mlogger\u001b[0m\u001b[0;34m.\u001b[0m\u001b[0mdebug\u001b[0m\u001b[0;34m(\u001b[0m\u001b[0;34m\"Answer received: {0}\"\u001b[0m\u001b[0;34m.\u001b[0m\u001b[0mformat\u001b[0m\u001b[0;34m(\u001b[0m\u001b[0manswer\u001b[0m\u001b[0;34m)\u001b[0m\u001b[0;34m)\u001b[0m\u001b[0;34m\u001b[0m\u001b[0;34m\u001b[0m\u001b[0m\n\u001b[1;32m   1154\u001b[0m             \u001b[0;32mif\u001b[0m \u001b[0manswer\u001b[0m\u001b[0;34m.\u001b[0m\u001b[0mstartswith\u001b[0m\u001b[0;34m(\u001b[0m\u001b[0mproto\u001b[0m\u001b[0;34m.\u001b[0m\u001b[0mRETURN_MESSAGE\u001b[0m\u001b[0;34m)\u001b[0m\u001b[0;34m:\u001b[0m\u001b[0;34m\u001b[0m\u001b[0;34m\u001b[0m\u001b[0m\n",
      "\u001b[0;32m~/anaconda3/lib/python3.7/socket.py\u001b[0m in \u001b[0;36mreadinto\u001b[0;34m(self, b)\u001b[0m\n\u001b[1;32m    587\u001b[0m         \u001b[0;32mwhile\u001b[0m \u001b[0;32mTrue\u001b[0m\u001b[0;34m:\u001b[0m\u001b[0;34m\u001b[0m\u001b[0;34m\u001b[0m\u001b[0m\n\u001b[1;32m    588\u001b[0m             \u001b[0;32mtry\u001b[0m\u001b[0;34m:\u001b[0m\u001b[0;34m\u001b[0m\u001b[0;34m\u001b[0m\u001b[0m\n\u001b[0;32m--> 589\u001b[0;31m                 \u001b[0;32mreturn\u001b[0m \u001b[0mself\u001b[0m\u001b[0;34m.\u001b[0m\u001b[0m_sock\u001b[0m\u001b[0;34m.\u001b[0m\u001b[0mrecv_into\u001b[0m\u001b[0;34m(\u001b[0m\u001b[0mb\u001b[0m\u001b[0;34m)\u001b[0m\u001b[0;34m\u001b[0m\u001b[0;34m\u001b[0m\u001b[0m\n\u001b[0m\u001b[1;32m    590\u001b[0m             \u001b[0;32mexcept\u001b[0m \u001b[0mtimeout\u001b[0m\u001b[0;34m:\u001b[0m\u001b[0;34m\u001b[0m\u001b[0;34m\u001b[0m\u001b[0m\n\u001b[1;32m    591\u001b[0m                 \u001b[0mself\u001b[0m\u001b[0;34m.\u001b[0m\u001b[0m_timeout_occurred\u001b[0m \u001b[0;34m=\u001b[0m \u001b[0;32mTrue\u001b[0m\u001b[0;34m\u001b[0m\u001b[0;34m\u001b[0m\u001b[0m\n",
      "\u001b[0;31mKeyboardInterrupt\u001b[0m: "
     ]
    }
   ],
   "source": [
    "import copy\n",
    "iter=0\n",
    "old_cost=99999999\n",
    "for p in range(0,100):\n",
    "    print(p,1)\n",
    "    sample_data=data.takeSample(False,40+2*k,random.randint(1,10000))\n",
    "    sample_data=\n",
    "    print(sample_data.count())\n",
    "    centers=sample_data.takeSample(False,k,random.randint(1,10000))\n",
    "    temp_centers=centers.copy()\n",
    "    print(p,2)\n",
    "    sample_centers=get_centers(sample_data,centers,temp_centers)\n",
    "    print(p,3)\n",
    "    new_data=data.map(compute_closest_all)\n",
    "    print(p,4)\n",
    "    new_cost=new_data.map(lambda x:x[1][1]).reduce(lambda x,y:x+y)\n",
    "    print(p,5)\n",
    "    if new_cost<old_cost:\n",
    "        old_cost=new_cost\n",
    "        data=new_data\n",
    "# while (iter<max_iter):\n",
    "#     print(iter)\n",
    "#     iter+=1\n",
    "#     data=data.map(compute_closest)\n",
    "# #     newcenters=sorted(data.map(lambda x:(x[0],(x[1],1))).reduceByKey(computer_sum).map(compute_mean).collect())\n",
    "#     newcenters=sorted(data.)\n",
    "#     if (compute_difference(centers,newcenters)<delta):\n",
    "#         print(\"收敛\")\n",
    "#         break\n",
    "#     print(compute_difference(centers,newcenters))\n",
    "#     centers=newcenters\n",
    "# print(centers)"
   ]
  },
  {
   "cell_type": "code",
   "execution_count": null,
   "metadata": {},
   "outputs": [],
   "source": [
    "l=[i for i in range(0,1000000)]\n",
    "rdd = sc.parallelize(l)\n",
    "from operator import add"
   ]
  },
  {
   "cell_type": "code",
   "execution_count": null,
   "metadata": {
    "scrolled": true
   },
   "outputs": [],
   "source": [
    "rdd.map(lambda x:x+10000)\n",
    "print(rdd.count())"
   ]
  },
  {
   "cell_type": "code",
   "execution_count": null,
   "metadata": {
    "scrolled": true
   },
   "outputs": [],
   "source": [
    "sum=0\n",
    "for i in l:\n",
    "    sum+=i\n",
    "print(sum)"
   ]
  },
  {
   "cell_type": "raw",
   "metadata": {},
   "source": []
  }
 ],
 "metadata": {
  "kernelspec": {
   "display_name": "Python 3",
   "language": "python",
   "name": "python3"
  },
  "language_info": {
   "codemirror_mode": {
    "name": "ipython",
    "version": 3
   },
   "file_extension": ".py",
   "mimetype": "text/x-python",
   "name": "python",
   "nbconvert_exporter": "python",
   "pygments_lexer": "ipython3",
   "version": "3.7.3"
  }
 },
 "nbformat": 4,
 "nbformat_minor": 2
}
